{
 "cells": [
  {
   "cell_type": "code",
   "execution_count": 1,
   "metadata": {},
   "outputs": [],
   "source": [
    "import logging\n",
    "from operation import database_operation\n",
    "#check if pymongo is has not been installed yet, install it\n",
    "try:\n",
    "    from pymongo import MongoClient \n",
    "except ModuleNotFoundError:\n",
    "    !pip install pymongo[srv]\n",
    "    logging.warning(f'pymongo library is not found! will automatically be installed')\n",
    "    from pymongo import MongoClient\n"
   ]
  },
  {
   "cell_type": "code",
   "execution_count": 3,
   "metadata": {},
   "outputs": [],
   "source": [
    "dbOps = database_operation(USR='mongodb', PW='mongodb', DB_NAME = 'carbon_NT', C_NAME='carbon_Data')"
   ]
  },
  {
   "cell_type": "code",
   "execution_count": 4,
   "metadata": {},
   "outputs": [
    {
     "data": {
      "text/plain": [
       "True"
      ]
     },
     "execution_count": 4,
     "metadata": {},
     "output_type": "execute_result"
    }
   ],
   "source": [
    "#step 1: create datawarehouse\n",
    "dbOps.createDataWarehouse()\n"
   ]
  },
  {
   "cell_type": "code",
   "execution_count": 9,
   "metadata": {},
   "outputs": [
    {
     "data": {
      "text/plain": [
       "True"
      ]
     },
     "execution_count": 9,
     "metadata": {},
     "output_type": "execute_result"
    }
   ],
   "source": [
    "#step 2: insert data into the collection\n",
    "#the delimiter of this csv file is ;\n",
    "dbOps.insertFromCSV('data/carbon_nanotubes.csv', delimiter=';', convert_comma_to_dot=True)\n"
   ]
  },
  {
   "cell_type": "code",
   "execution_count": 42,
   "metadata": {},
   "outputs": [
    {
     "data": {
      "text/plain": [
       "[{'_id': ObjectId('62121bc5d72139103f534608'),\n",
       "  'Chiral indice n': '6',\n",
       "  'Chiral indice m': '4',\n",
       "  'Initial atomic coordinate u': '0.856317',\n",
       "  'Initial atomic coordinate v': '0.54653',\n",
       "  'Initial atomic coordinate w': '0.933154',\n",
       "  \"Calculated atomic coordinates u'\": '0.86039',\n",
       "  \"Calculated atomic coordinates v'\": '0.546332',\n",
       "  \"Calculated atomic coordinates w'\": '0.933204'}]"
      ]
     },
     "execution_count": 42,
     "metadata": {},
     "output_type": "execute_result"
    }
   ],
   "source": [
    "#if print all the documents, the output is to much for viewing, so just make filters\n",
    "dbOps.fetchDocuments({'Chiral indice n': '6', 'Chiral indice m': '4', \"Calculated atomic coordinates u'\": '0.86039' })"
   ]
  },
  {
   "cell_type": "code",
   "execution_count": 26,
   "metadata": {},
   "outputs": [
    {
     "data": {
      "text/plain": [
       "[{'_id': ObjectId('62121bc5d72139103f533f7f'),\n",
       "  'Chiral indice n': '2',\n",
       "  'Chiral indice m': '1',\n",
       "  'Initial atomic coordinate u': '0.679005',\n",
       "  'Initial atomic coordinate v': '0.701318',\n",
       "  'Initial atomic coordinate w': '0.017033',\n",
       "  \"Calculated atomic coordinates u'\": '0.721039',\n",
       "  \"Calculated atomic coordinates v'\": '0.730232',\n",
       "  \"Calculated atomic coordinates w'\": '0.017014'},\n",
       " {'_id': ObjectId('62121bc5d72139103f533f80'),\n",
       "  'Chiral indice n': '2',\n",
       "  'Chiral indice m': '1',\n",
       "  'Initial atomic coordinate u': '0.717298',\n",
       "  'Initial atomic coordinate v': '0.642129',\n",
       "  'Initial atomic coordinate w': '0.231319',\n",
       "  \"Calculated atomic coordinates u'\": '0.738414',\n",
       "  \"Calculated atomic coordinates v'\": '0.65675',\n",
       "  \"Calculated atomic coordinates w'\": '0.232369'},\n",
       " {'_id': ObjectId('62121bc5d72139103f533f8d'),\n",
       "  'Chiral indice n': '2',\n",
       "  'Chiral indice m': '1',\n",
       "  'Initial atomic coordinate u': '0.679005',\n",
       "  'Initial atomic coordinate v': '0.701318',\n",
       "  'Initial atomic coordinate w': '0.6837',\n",
       "  \"Calculated atomic coordinates u'\": '0.718811',\n",
       "  \"Calculated atomic coordinates v'\": '0.738577',\n",
       "  \"Calculated atomic coordinates w'\": '0.68244'},\n",
       " {'_id': ObjectId('62121bc5d72139103f533f97'),\n",
       "  'Chiral indice n': '2',\n",
       "  'Chiral indice m': '1',\n",
       "  'Initial atomic coordinate u': '0.717298',\n",
       "  'Initial atomic coordinate v': '0.642129',\n",
       "  'Initial atomic coordinate w': '0.897985',\n",
       "  \"Calculated atomic coordinates u'\": '0.770521',\n",
       "  \"Calculated atomic coordinates v'\": '0.670869',\n",
       "  \"Calculated atomic coordinates w'\": '0.898389'},\n",
       " {'_id': ObjectId('62121bc5d72139103f5341c9'),\n",
       "  'Chiral indice n': '5',\n",
       "  'Chiral indice m': '2',\n",
       "  'Initial atomic coordinate u': '0.310143',\n",
       "  'Initial atomic coordinate v': '0.157965',\n",
       "  'Initial atomic coordinate w': '0.039399',\n",
       "  \"Calculated atomic coordinates u'\": '0.302334',\n",
       "  \"Calculated atomic coordinates v'\": '0.145784',\n",
       "  \"Calculated atomic coordinates w'\": '0.03951'},\n",
       " {'_id': ObjectId('62121bc5d72139103f534204'),\n",
       "  'Chiral indice n': '5',\n",
       "  'Chiral indice m': '2',\n",
       "  'Initial atomic coordinate u': '0.310143',\n",
       "  'Initial atomic coordinate v': '0.157965',\n",
       "  'Initial atomic coordinate w': '0.372732',\n",
       "  \"Calculated atomic coordinates u'\": '0.302334',\n",
       "  \"Calculated atomic coordinates v'\": '0.145784',\n",
       "  \"Calculated atomic coordinates w'\": '0.372843'},\n",
       " {'_id': ObjectId('62121bc5d72139103f534230'),\n",
       "  'Chiral indice n': '5',\n",
       "  'Chiral indice m': '2',\n",
       "  'Initial atomic coordinate u': '0.310143',\n",
       "  'Initial atomic coordinate v': '0.157965',\n",
       "  'Initial atomic coordinate w': '0.706065',\n",
       "  \"Calculated atomic coordinates u'\": '0.302334',\n",
       "  \"Calculated atomic coordinates v'\": '0.145784',\n",
       "  \"Calculated atomic coordinates w'\": '0.706176'}]"
      ]
     },
     "execution_count": 26,
     "metadata": {},
     "output_type": "execute_result"
    }
   ],
   "source": [
    "\n",
    "dbOps.fetchDocuments({'Initial atomic coordinate u': {'$in':['0.679005','0.717298', '0.717298','0.310143']}})"
   ]
  },
  {
   "cell_type": "code",
   "execution_count": 28,
   "metadata": {},
   "outputs": [
    {
     "data": {
      "text/plain": [
       "[{'_id': ObjectId('62121bc5d72139103f533f7f'),\n",
       "  'Chiral indice n': '2',\n",
       "  'Chiral indice m': '1',\n",
       "  'Initial atomic coordinate u': '0.679005',\n",
       "  'Initial atomic coordinate v': '0.701318',\n",
       "  'Initial atomic coordinate w': '0.017033',\n",
       "  \"Calculated atomic coordinates u'\": '0.721039',\n",
       "  \"Calculated atomic coordinates v'\": '0.730232',\n",
       "  \"Calculated atomic coordinates w'\": '0.017014'},\n",
       " {'_id': ObjectId('62121bc5d72139103f533f8d'),\n",
       "  'Chiral indice n': '2',\n",
       "  'Chiral indice m': '1',\n",
       "  'Initial atomic coordinate u': '0.679005',\n",
       "  'Initial atomic coordinate v': '0.701318',\n",
       "  'Initial atomic coordinate w': '0.6837',\n",
       "  \"Calculated atomic coordinates u'\": '0.718811',\n",
       "  \"Calculated atomic coordinates v'\": '0.738577',\n",
       "  \"Calculated atomic coordinates w'\": '0.68244'}]"
      ]
     },
     "execution_count": 28,
     "metadata": {},
     "output_type": "execute_result"
    }
   ],
   "source": [
    "dbOps.fetchDocuments({'Chiral indice n':'2','Initial atomic coordinate u': '0.679005'})"
   ]
  },
  {
   "cell_type": "code",
   "execution_count": 9,
   "metadata": {},
   "outputs": [
    {
     "data": {
      "text/plain": [
       "True"
      ]
     },
     "execution_count": 9,
     "metadata": {},
     "output_type": "execute_result"
    }
   ],
   "source": [
    "filter_para = {'Chiral indice n':'2'}\n",
    "set_para = {'$set':{'Chiral indice n':'0'}}\n",
    "dbOps.updateCollection(filter_para , set_para)"
   ]
  },
  {
   "cell_type": "code",
   "execution_count": 10,
   "metadata": {},
   "outputs": [
    {
     "data": {
      "text/plain": [
       "[]"
      ]
     },
     "execution_count": 10,
     "metadata": {},
     "output_type": "execute_result"
    }
   ],
   "source": [
    "dbOps.fetchDocuments({'Chiral indice n':'2'})"
   ]
  },
  {
   "cell_type": "code",
   "execution_count": 11,
   "metadata": {},
   "outputs": [
    {
     "data": {
      "text/plain": [
       "[{'_id': ObjectId('6212196c946d7e5ea9f0a74e'),\n",
       "  'Chiral indice n': '0',\n",
       "  'Chiral indice m': '1',\n",
       "  'Initial atomic coordinate u': '0.679005',\n",
       "  'Initial atomic coordinate v': '0.701318',\n",
       "  'Initial atomic coordinate w': '0.017033',\n",
       "  \"Calculated atomic coordinates u'\": '0.721039',\n",
       "  \"Calculated atomic coordinates v'\": '0.730232',\n",
       "  \"Calculated atomic coordinates w'\": '0.017014'},\n",
       " {'_id': ObjectId('6212196c946d7e5ea9f0a74f'),\n",
       "  'Chiral indice n': '0',\n",
       "  'Chiral indice m': '1',\n",
       "  'Initial atomic coordinate u': '0.717298',\n",
       "  'Initial atomic coordinate v': '0.642129',\n",
       "  'Initial atomic coordinate w': '0.231319',\n",
       "  \"Calculated atomic coordinates u'\": '0.738414',\n",
       "  \"Calculated atomic coordinates v'\": '0.65675',\n",
       "  \"Calculated atomic coordinates w'\": '0.232369'},\n",
       " {'_id': ObjectId('6212196c946d7e5ea9f0a750'),\n",
       "  'Chiral indice n': '0',\n",
       "  'Chiral indice m': '1',\n",
       "  'Initial atomic coordinate u': '0.489336',\n",
       "  'Initial atomic coordinate v': '0.303751',\n",
       "  'Initial atomic coordinate w': '0.088462',\n",
       "  \"Calculated atomic coordinates u'\": '0.477676',\n",
       "  \"Calculated atomic coordinates v'\": '0.263221',\n",
       "  \"Calculated atomic coordinates w'\": '0.088712'},\n",
       " {'_id': ObjectId('6212196c946d7e5ea9f0a751'),\n",
       "  'Chiral indice n': '0',\n",
       "  'Chiral indice m': '1',\n",
       "  'Initial atomic coordinate u': '0.413957',\n",
       "  'Initial atomic coordinate v': '0.632996',\n",
       "  'Initial atomic coordinate w': '0.040843',\n",
       "  \"Calculated atomic coordinates u'\": '0.408823',\n",
       "  \"Calculated atomic coordinates v'\": '0.657897',\n",
       "  \"Calculated atomic coordinates w'\": '0.039796'},\n",
       " {'_id': ObjectId('6212196c946d7e5ea9f0a752'),\n",
       "  'Chiral indice n': '0',\n",
       "  'Chiral indice m': '1',\n",
       "  'Initial atomic coordinate u': '0.334292',\n",
       "  'Initial atomic coordinate v': '0.543401',\n",
       "  'Initial atomic coordinate w': '0.15989',\n",
       "  \"Calculated atomic coordinates u'\": '0.303349',\n",
       "  \"Calculated atomic coordinates v'\": '0.558807',\n",
       "  \"Calculated atomic coordinates w'\": '0.157373'},\n",
       " {'_id': ObjectId('6212196c946d7e5ea9f0a753'),\n",
       "  'Chiral indice n': '0',\n",
       "  'Chiral indice m': '1',\n",
       "  'Initial atomic coordinate u': '0.510664',\n",
       "  'Initial atomic coordinate v': '0.696249',\n",
       "  'Initial atomic coordinate w': '0.255128',\n",
       "  \"Calculated atomic coordinates u'\": '0.496977',\n",
       "  \"Calculated atomic coordinates v'\": '0.725608',\n",
       "  \"Calculated atomic coordinates w'\": '0.25597'},\n",
       " {'_id': ObjectId('6212196c946d7e5ea9f0a754'),\n",
       "  'Chiral indice n': '0',\n",
       "  'Chiral indice m': '1',\n",
       "  'Initial atomic coordinate u': '0.413957',\n",
       "  'Initial atomic coordinate v': '0.632996',\n",
       "  'Initial atomic coordinate w': '0.374176',\n",
       "  \"Calculated atomic coordinates u'\": '0.390878',\n",
       "  \"Calculated atomic coordinates v'\": '0.657645',\n",
       "  \"Calculated atomic coordinates w'\": '0.374735'},\n",
       " {'_id': ObjectId('6212196c946d7e5ea9f0a755'),\n",
       "  'Chiral indice n': '0',\n",
       "  'Chiral indice m': '1',\n",
       "  'Initial atomic coordinate u': '0.712552',\n",
       "  'Initial atomic coordinate v': '0.55479',\n",
       "  'Initial atomic coordinate w': '0.112271',\n",
       "  \"Calculated atomic coordinates u'\": '0.750056',\n",
       "  \"Calculated atomic coordinates v'\": '0.561494',\n",
       "  \"Calculated atomic coordinates w'\": '0.114944'},\n",
       " {'_id': ObjectId('6212196c946d7e5ea9f0a756'),\n",
       "  'Chiral indice n': '0',\n",
       "  'Chiral indice m': '1',\n",
       "  'Initial atomic coordinate u': '0.320995',\n",
       "  'Initial atomic coordinate v': '0.298682',\n",
       "  'Initial atomic coordinate w': '0.1837',\n",
       "  \"Calculated atomic coordinates u'\": '0.281301',\n",
       "  \"Calculated atomic coordinates v'\": '0.261433',\n",
       "  \"Calculated atomic coordinates w'\": '0.182779'},\n",
       " {'_id': ObjectId('6212196c946d7e5ea9f0a757'),\n",
       "  'Chiral indice n': '0',\n",
       "  'Chiral indice m': '1',\n",
       "  'Initial atomic coordinate u': '0.394742',\n",
       "  'Initial atomic coordinate v': '0.279367',\n",
       "  'Initial atomic coordinate w': '0.302747',\n",
       "  \"Calculated atomic coordinates u'\": '0.35086',\n",
       "  \"Calculated atomic coordinates v'\": '0.2335',\n",
       "  \"Calculated atomic coordinates w'\": '0.302196'},\n",
       " {'_id': ObjectId('6212196c946d7e5ea9f0a758'),\n",
       "  'Chiral indice n': '0',\n",
       "  'Chiral indice m': '1',\n",
       "  'Initial atomic coordinate u': '0.282702',\n",
       "  'Initial atomic coordinate v': '0.357871',\n",
       "  'Initial atomic coordinate w': '0.397985',\n",
       "  \"Calculated atomic coordinates u'\": '0.229138',\n",
       "  \"Calculated atomic coordinates v'\": '0.328729',\n",
       "  \"Calculated atomic coordinates w'\": '0.398581'},\n",
       " {'_id': ObjectId('6212196c946d7e5ea9f0a759'),\n",
       "  'Chiral indice n': '0',\n",
       "  'Chiral indice m': '1',\n",
       "  'Initial atomic coordinate u': '0.320995',\n",
       "  'Initial atomic coordinate v': '0.298682',\n",
       "  'Initial atomic coordinate w': '0.517033',\n",
       "  \"Calculated atomic coordinates u'\": '0.278752',\n",
       "  \"Calculated atomic coordinates v'\": '0.269615',\n",
       "  \"Calculated atomic coordinates w'\": '0.51733'},\n",
       " {'_id': ObjectId('6212196c946d7e5ea9f0a75a'),\n",
       "  'Chiral indice n': '0',\n",
       "  'Chiral indice m': '1',\n",
       "  'Initial atomic coordinate u': '0.605258',\n",
       "  'Initial atomic coordinate v': '0.720633',\n",
       "  'Initial atomic coordinate w': '0.469414',\n",
       "  \"Calculated atomic coordinates u'\": '0.613415',\n",
       "  \"Calculated atomic coordinates v'\": '0.760009',\n",
       "  \"Calculated atomic coordinates w'\": '0.469452'},\n",
       " {'_id': ObjectId('6212196c946d7e5ea9f0a75b'),\n",
       "  'Chiral indice n': '0',\n",
       "  'Chiral indice m': '1',\n",
       "  'Initial atomic coordinate u': '0.510664',\n",
       "  'Initial atomic coordinate v': '0.696249',\n",
       "  'Initial atomic coordinate w': '0.588462',\n",
       "  \"Calculated atomic coordinates u'\": '0.521991',\n",
       "  \"Calculated atomic coordinates v'\": '0.736991',\n",
       "  \"Calculated atomic coordinates w'\": '0.588946'},\n",
       " {'_id': ObjectId('6212196c946d7e5ea9f0a75c'),\n",
       "  'Chiral indice n': '0',\n",
       "  'Chiral indice m': '1',\n",
       "  'Initial atomic coordinate u': '0.679005',\n",
       "  'Initial atomic coordinate v': '0.701318',\n",
       "  'Initial atomic coordinate w': '0.6837',\n",
       "  \"Calculated atomic coordinates u'\": '0.718811',\n",
       "  \"Calculated atomic coordinates v'\": '0.738577',\n",
       "  \"Calculated atomic coordinates w'\": '0.68244'},\n",
       " {'_id': ObjectId('6212196c946d7e5ea9f0a75d'),\n",
       "  'Chiral indice n': '0',\n",
       "  'Chiral indice m': '1',\n",
       "  'Initial atomic coordinate u': '0.605258',\n",
       "  'Initial atomic coordinate v': '0.720633',\n",
       "  'Initial atomic coordinate w': '0.802747',\n",
       "  \"Calculated atomic coordinates u'\": '0.649178',\n",
       "  \"Calculated atomic coordinates v'\": '0.766301',\n",
       "  \"Calculated atomic coordinates w'\": '0.80193'},\n",
       " {'_id': ObjectId('6212196c946d7e5ea9f0a75e'),\n",
       "  'Chiral indice n': '0',\n",
       "  'Chiral indice m': '1',\n",
       "  'Initial atomic coordinate u': '0.665708',\n",
       "  'Initial atomic coordinate v': '0.456599',\n",
       "  'Initial atomic coordinate w': '0.326557',\n",
       "  \"Calculated atomic coordinates u'\": '0.680389',\n",
       "  \"Calculated atomic coordinates v'\": '0.444562',\n",
       "  \"Calculated atomic coordinates w'\": '0.327502'},\n",
       " {'_id': ObjectId('6212196c946d7e5ea9f0a75f'),\n",
       "  'Chiral indice n': '0',\n",
       "  'Chiral indice m': '1',\n",
       "  'Initial atomic coordinate u': '0.712552',\n",
       "  'Initial atomic coordinate v': '0.55479',\n",
       "  'Initial atomic coordinate w': '0.445605',\n",
       "  \"Calculated atomic coordinates u'\": '0.737216',\n",
       "  \"Calculated atomic coordinates v'\": '0.552056',\n",
       "  \"Calculated atomic coordinates w'\": '0.443517'},\n",
       " {'_id': ObjectId('6212196c946d7e5ea9f0a760'),\n",
       "  'Chiral indice n': '0',\n",
       "  'Chiral indice m': '1',\n",
       "  'Initial atomic coordinate u': '0.586043',\n",
       "  'Initial atomic coordinate v': '0.367004',\n",
       "  'Initial atomic coordinate w': '0.540843',\n",
       "  \"Calculated atomic coordinates u'\": '0.591153',\n",
       "  \"Calculated atomic coordinates v'\": '0.342069',\n",
       "  \"Calculated atomic coordinates w'\": '0.540172'},\n",
       " {'_id': ObjectId('6212196c946d7e5ea9f0a761'),\n",
       "  'Chiral indice n': '0',\n",
       "  'Chiral indice m': '1',\n",
       "  'Initial atomic coordinate u': '0.665708',\n",
       "  'Initial atomic coordinate v': '0.456599',\n",
       "  'Initial atomic coordinate w': '0.65989',\n",
       "  \"Calculated atomic coordinates u'\": '0.697242',\n",
       "  \"Calculated atomic coordinates v'\": '0.441516',\n",
       "  \"Calculated atomic coordinates w'\": '0.657521'},\n",
       " {'_id': ObjectId('6212196c946d7e5ea9f0a762'),\n",
       "  'Chiral indice n': '0',\n",
       "  'Chiral indice m': '1',\n",
       "  'Initial atomic coordinate u': '0.287448',\n",
       "  'Initial atomic coordinate v': '0.44521',\n",
       "  'Initial atomic coordinate w': '0.612271',\n",
       "  \"Calculated atomic coordinates u'\": '0.249571',\n",
       "  \"Calculated atomic coordinates v'\": '0.438057',\n",
       "  \"Calculated atomic coordinates w'\": '0.614939'},\n",
       " {'_id': ObjectId('6212196c946d7e5ea9f0a763'),\n",
       "  'Chiral indice n': '0',\n",
       "  'Chiral indice m': '1',\n",
       "  'Initial atomic coordinate u': '0.282702',\n",
       "  'Initial atomic coordinate v': '0.357871',\n",
       "  'Initial atomic coordinate w': '0.731319',\n",
       "  \"Calculated atomic coordinates u'\": '0.262916',\n",
       "  \"Calculated atomic coordinates v'\": '0.343512',\n",
       "  \"Calculated atomic coordinates w'\": '0.732213'},\n",
       " {'_id': ObjectId('6212196c946d7e5ea9f0a764'),\n",
       "  'Chiral indice n': '0',\n",
       "  'Chiral indice m': '1',\n",
       "  'Initial atomic coordinate u': '0.334292',\n",
       "  'Initial atomic coordinate v': '0.543401',\n",
       "  'Initial atomic coordinate w': '0.826557',\n",
       "  \"Calculated atomic coordinates u'\": '0.320053',\n",
       "  \"Calculated atomic coordinates v'\": '0.555754',\n",
       "  \"Calculated atomic coordinates w'\": '0.827503'},\n",
       " {'_id': ObjectId('6212196c946d7e5ea9f0a765'),\n",
       "  'Chiral indice n': '0',\n",
       "  'Chiral indice m': '1',\n",
       "  'Initial atomic coordinate u': '0.287448',\n",
       "  'Initial atomic coordinate v': '0.44521',\n",
       "  'Initial atomic coordinate w': '0.945605',\n",
       "  \"Calculated atomic coordinates u'\": '0.262054',\n",
       "  \"Calculated atomic coordinates v'\": '0.44817',\n",
       "  \"Calculated atomic coordinates w'\": '0.943402'},\n",
       " {'_id': ObjectId('6212196c946d7e5ea9f0a766'),\n",
       "  'Chiral indice n': '0',\n",
       "  'Chiral indice m': '1',\n",
       "  'Initial atomic coordinate u': '0.717298',\n",
       "  'Initial atomic coordinate v': '0.642129',\n",
       "  'Initial atomic coordinate w': '0.897985',\n",
       "  \"Calculated atomic coordinates u'\": '0.770521',\n",
       "  \"Calculated atomic coordinates v'\": '0.670869',\n",
       "  \"Calculated atomic coordinates w'\": '0.898389'},\n",
       " {'_id': ObjectId('6212196c946d7e5ea9f0a767'),\n",
       "  'Chiral indice n': '0',\n",
       "  'Chiral indice m': '1',\n",
       "  'Initial atomic coordinate u': '0.489336',\n",
       "  'Initial atomic coordinate v': '0.303751',\n",
       "  'Initial atomic coordinate w': '0.755128',\n",
       "  \"Calculated atomic coordinates u'\": '0.50356',\n",
       "  \"Calculated atomic coordinates v'\": '0.27443',\n",
       "  \"Calculated atomic coordinates w'\": '0.75629'},\n",
       " {'_id': ObjectId('6212196c946d7e5ea9f0a768'),\n",
       "  'Chiral indice n': '0',\n",
       "  'Chiral indice m': '1',\n",
       "  'Initial atomic coordinate u': '0.586043',\n",
       "  'Initial atomic coordinate v': '0.367004',\n",
       "  'Initial atomic coordinate w': '0.874176',\n",
       "  \"Calculated atomic coordinates u'\": '0.609',\n",
       "  \"Calculated atomic coordinates v'\": '0.342123',\n",
       "  \"Calculated atomic coordinates w'\": '0.875088'},\n",
       " {'_id': ObjectId('6212196c946d7e5ea9f0a769'),\n",
       "  'Chiral indice n': '0',\n",
       "  'Chiral indice m': '1',\n",
       "  'Initial atomic coordinate u': '0.394742',\n",
       "  'Initial atomic coordinate v': '0.279367',\n",
       "  'Initial atomic coordinate w': '0.969414',\n",
       "  \"Calculated atomic coordinates u'\": '0.385666',\n",
       "  \"Calculated atomic coordinates v'\": '0.240071',\n",
       "  \"Calculated atomic coordinates w'\": '0.969157'}]"
      ]
     },
     "execution_count": 11,
     "metadata": {},
     "output_type": "execute_result"
    }
   ],
   "source": [
    "dbOps.fetchDocuments({'Chiral indice n':'0'})"
   ]
  },
  {
   "cell_type": "code",
   "execution_count": 12,
   "metadata": {},
   "outputs": [
    {
     "data": {
      "text/plain": [
       "True"
      ]
     },
     "execution_count": 12,
     "metadata": {},
     "output_type": "execute_result"
    }
   ],
   "source": [
    "dbOps.deleteDocuments({'Chiral indice n':'0'})"
   ]
  },
  {
   "cell_type": "code",
   "execution_count": 13,
   "metadata": {},
   "outputs": [
    {
     "data": {
      "text/plain": [
       "[]"
      ]
     },
     "execution_count": 13,
     "metadata": {},
     "output_type": "execute_result"
    }
   ],
   "source": [
    "dbOps.fetchDocuments({'Chiral indice n':'0'})"
   ]
  },
  {
   "cell_type": "code",
   "execution_count": 15,
   "metadata": {},
   "outputs": [],
   "source": [
    "my_list = [{  \n",
    "  'Chiral indice n': '100',\n",
    "  'Chiral indice m': '1',\n",
    "  'Initial atomic coordinate u': '0.679005',\n",
    "  'Initial atomic coordinate v': '0.701318',\n",
    "  'Initial atomic coordinate w': '0.017033',\n",
    "  \"Calculated atomic coordinates u'\": '0.721039',\n",
    "  \"Calculated atomic coordinates v'\": '0.730232',\n",
    "  \"Calculated atomic coordinates w'\": '0.017014'},\n",
    " {\n",
    "  'Chiral indice n': '100',\n",
    "  'Chiral indice m': '1',\n",
    "  'Initial atomic coordinate u': '0.717298',\n",
    "  'Initial atomic coordinate v': '0.642129',\n",
    "  'Initial atomic coordinate w': '0.231319',\n",
    "  \"Calculated atomic coordinates u'\": '0.738414',\n",
    "  \"Calculated atomic coordinates v'\": '0.65675',\n",
    "  \"Calculated atomic coordinates w'\": '0.232369'},\n",
    " {\n",
    "  'Chiral indice n': '100',\n",
    "  'Chiral indice m': '1',\n",
    "  'Initial atomic coordinate u': '0.489336',\n",
    "  'Initial atomic coordinate v': '0.303751',\n",
    "  'Initial atomic coordinate w': '0.088462',\n",
    "  \"Calculated atomic coordinates u'\": '0.477676',\n",
    "  \"Calculated atomic coordinates v'\": '0.263221',\n",
    "  \"Calculated atomic coordinates w'\": '0.088712'},\n",
    " {\n",
    "  'Chiral indice n': '100',\n",
    "  'Chiral indice m': '1',\n",
    "  'Initial atomic coordinate u': '0.413957',\n",
    "  'Initial atomic coordinate v': '0.632996',\n",
    "  'Initial atomic coordinate w': '0.040843',\n",
    "  \"Calculated atomic coordinates u'\": '0.408823',\n",
    "  \"Calculated atomic coordinates v'\": '0.657897',\n",
    "  \"Calculated atomic coordinates w'\": '0.039796'},\n",
    " {\n",
    "  'Chiral indice n': '100',\n",
    "  'Chiral indice m': '1',\n",
    "  'Initial atomic coordinate u': '0.334292',\n",
    "  'Initial atomic coordinate v': '0.543401',\n",
    "  'Initial atomic coordinate w': '0.15989',\n",
    "  \"Calculated atomic coordinates u'\": '0.303349',\n",
    "  \"Calculated atomic coordinates v'\": '0.558807',\n",
    "  \"Calculated atomic coordinates w'\": '0.157373'}]"
   ]
  },
  {
   "cell_type": "code",
   "execution_count": 16,
   "metadata": {},
   "outputs": [
    {
     "data": {
      "text/plain": [
       "True"
      ]
     },
     "execution_count": 16,
     "metadata": {},
     "output_type": "execute_result"
    }
   ],
   "source": [
    "dbOps.insertList(my_list)"
   ]
  },
  {
   "cell_type": "code",
   "execution_count": 17,
   "metadata": {},
   "outputs": [
    {
     "data": {
      "text/plain": [
       "[{'_id': ObjectId('62121a72946d7e5ea9f0d12f'),\n",
       "  'Chiral indice n': '100',\n",
       "  'Chiral indice m': '1',\n",
       "  'Initial atomic coordinate u': '0.679005',\n",
       "  'Initial atomic coordinate v': '0.701318',\n",
       "  'Initial atomic coordinate w': '0.017033',\n",
       "  \"Calculated atomic coordinates u'\": '0.721039',\n",
       "  \"Calculated atomic coordinates v'\": '0.730232',\n",
       "  \"Calculated atomic coordinates w'\": '0.017014'},\n",
       " {'_id': ObjectId('62121a72946d7e5ea9f0d130'),\n",
       "  'Chiral indice n': '100',\n",
       "  'Chiral indice m': '1',\n",
       "  'Initial atomic coordinate u': '0.717298',\n",
       "  'Initial atomic coordinate v': '0.642129',\n",
       "  'Initial atomic coordinate w': '0.231319',\n",
       "  \"Calculated atomic coordinates u'\": '0.738414',\n",
       "  \"Calculated atomic coordinates v'\": '0.65675',\n",
       "  \"Calculated atomic coordinates w'\": '0.232369'},\n",
       " {'_id': ObjectId('62121a72946d7e5ea9f0d131'),\n",
       "  'Chiral indice n': '100',\n",
       "  'Chiral indice m': '1',\n",
       "  'Initial atomic coordinate u': '0.489336',\n",
       "  'Initial atomic coordinate v': '0.303751',\n",
       "  'Initial atomic coordinate w': '0.088462',\n",
       "  \"Calculated atomic coordinates u'\": '0.477676',\n",
       "  \"Calculated atomic coordinates v'\": '0.263221',\n",
       "  \"Calculated atomic coordinates w'\": '0.088712'},\n",
       " {'_id': ObjectId('62121a72946d7e5ea9f0d132'),\n",
       "  'Chiral indice n': '100',\n",
       "  'Chiral indice m': '1',\n",
       "  'Initial atomic coordinate u': '0.413957',\n",
       "  'Initial atomic coordinate v': '0.632996',\n",
       "  'Initial atomic coordinate w': '0.040843',\n",
       "  \"Calculated atomic coordinates u'\": '0.408823',\n",
       "  \"Calculated atomic coordinates v'\": '0.657897',\n",
       "  \"Calculated atomic coordinates w'\": '0.039796'},\n",
       " {'_id': ObjectId('62121a72946d7e5ea9f0d133'),\n",
       "  'Chiral indice n': '100',\n",
       "  'Chiral indice m': '1',\n",
       "  'Initial atomic coordinate u': '0.334292',\n",
       "  'Initial atomic coordinate v': '0.543401',\n",
       "  'Initial atomic coordinate w': '0.15989',\n",
       "  \"Calculated atomic coordinates u'\": '0.303349',\n",
       "  \"Calculated atomic coordinates v'\": '0.558807',\n",
       "  \"Calculated atomic coordinates w'\": '0.157373'}]"
      ]
     },
     "execution_count": 17,
     "metadata": {},
     "output_type": "execute_result"
    }
   ],
   "source": [
    "dbOps.fetchDocuments({'Chiral indice n':'100'})"
   ]
  },
  {
   "cell_type": "code",
   "execution_count": 18,
   "metadata": {},
   "outputs": [],
   "source": [
    "my_dict = {\n",
    "  'Chiral indice n': '1000',\n",
    "  'Chiral indice m': '1',\n",
    "  'Initial atomic coordinate u': '0.334292',\n",
    "  'Initial atomic coordinate v': '0.543401',\n",
    "  'Initial atomic coordinate w': '0.15989',\n",
    "  \"Calculated atomic coordinates u'\": '0.303349',\n",
    "  \"Calculated atomic coordinates v'\": '0.558807',\n",
    "  \"Calculated atomic coordinates w'\": '0.157373'}"
   ]
  },
  {
   "cell_type": "code",
   "execution_count": 19,
   "metadata": {},
   "outputs": [
    {
     "data": {
      "text/plain": [
       "True"
      ]
     },
     "execution_count": 19,
     "metadata": {},
     "output_type": "execute_result"
    }
   ],
   "source": [
    "dbOps.insertDocument( my_dict)"
   ]
  },
  {
   "cell_type": "code",
   "execution_count": 20,
   "metadata": {},
   "outputs": [
    {
     "data": {
      "text/plain": [
       "[{'_id': ObjectId('62121a9b946d7e5ea9f0d134'),\n",
       "  'Chiral indice n': '1000',\n",
       "  'Chiral indice m': '1',\n",
       "  'Initial atomic coordinate u': '0.334292',\n",
       "  'Initial atomic coordinate v': '0.543401',\n",
       "  'Initial atomic coordinate w': '0.15989',\n",
       "  \"Calculated atomic coordinates u'\": '0.303349',\n",
       "  \"Calculated atomic coordinates v'\": '0.558807',\n",
       "  \"Calculated atomic coordinates w'\": '0.157373'}]"
      ]
     },
     "execution_count": 20,
     "metadata": {},
     "output_type": "execute_result"
    }
   ],
   "source": [
    "dbOps.fetchDocuments({'Chiral indice n':'1000'})"
   ]
  },
  {
   "cell_type": "code",
   "execution_count": 8,
   "metadata": {},
   "outputs": [
    {
     "data": {
      "text/plain": [
       "True"
      ]
     },
     "execution_count": 8,
     "metadata": {},
     "output_type": "execute_result"
    }
   ],
   "source": [
    "dbOps.dropCollection()"
   ]
  },
  {
   "cell_type": "code",
   "execution_count": 22,
   "metadata": {},
   "outputs": [
    {
     "data": {
      "text/plain": [
       "[]"
      ]
     },
     "execution_count": 22,
     "metadata": {},
     "output_type": "execute_result"
    }
   ],
   "source": [
    "dbOps.fetchDocuments()"
   ]
  },
  {
   "cell_type": "code",
   "execution_count": 23,
   "metadata": {},
   "outputs": [],
   "source": [
    "del dbOps"
   ]
  }
 ],
 "metadata": {
  "kernelspec": {
   "display_name": "Python 3",
   "language": "python",
   "name": "python3"
  },
  "language_info": {
   "codemirror_mode": {
    "name": "ipython",
    "version": 3
   },
   "file_extension": ".py",
   "mimetype": "text/x-python",
   "name": "python",
   "nbconvert_exporter": "python",
   "pygments_lexer": "ipython3",
   "version": "3.8.3"
  }
 },
 "nbformat": 4,
 "nbformat_minor": 4
}
